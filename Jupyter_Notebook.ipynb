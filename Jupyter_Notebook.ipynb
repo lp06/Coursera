{
 "cells": [
  {
   "cell_type": "markdown",
   "metadata": {},
   "source": [
    "<center>\n",
    "    <img src=\"https://s3-api.us-geo.objectstorage.softlayer.net/cf-courses-data/CognitiveClass/Logos/organization_logo/organization_logo.png\" width=\"300\" alt=\"cognitiveclass.ai logo\"  />\n",
    "</center>\n"
   ]
  },
  {
   "cell_type": "markdown",
   "metadata": {},
   "source": [
    "#### Add your code below following the instructions given in the course\n"
   ]
  },
  {
   "cell_type": "markdown",
   "metadata": {},
   "source": [
    "<h1>My Jupyter Notebook on IBM Watson Studio</h1>"
   ]
  },
  {
   "cell_type": "markdown",
   "metadata": {},
   "source": [
    "<b>Lee Smith</b><br>\n",
    "Data Analyst"
   ]
  },
  {
   "cell_type": "markdown",
   "metadata": {},
   "source": [
    "<i>I am interested in data science because it is a growing field, and I enjoy exploring data.</i>"
   ]
  },
  {
   "cell_type": "markdown",
   "metadata": {},
   "source": [
    "<h3>The following code determines the length of the hypotenuse given the length of the other sides</h3>"
   ]
  },
  {
   "cell_type": "code",
   "execution_count": 1,
   "metadata": {},
   "outputs": [
    {
     "name": "stdout",
     "output_type": "stream",
     "text": [
      "The hypotenuse length is: 5.0\n"
     ]
    }
   ],
   "source": [
    "a = 3  #side 1\n",
    "b = 4  #side 2\n",
    "c = (a**2 + b**2)**(1/2)\n",
    "\n",
    "print(f'The hypotenuse length is: {c}')"
   ]
  },
  {
   "attachments": {},
   "cell_type": "markdown",
   "metadata": {},
   "source": [
    "This is a <a href='https://www.coursera.org/'>Coursera</a> course.<br>\n",
    "<hr>\n",
    "The courses in this series are:</u>\n",
    "<ul>\n",
    "  <li><del>What is Data Science?</del></li>\n",
    "  <li><del>Tools for Data Science</del></li>\n",
    "  <li>Data Science Methodology</li>\n",
    "  <li>Data Analysis with Python</li>\n",
    "  <li>And Others...</li>\n",
    "</ul>\n",
    "\n",
    "<hr>\n",
    "This is a sunny day.\n",
    "<img src=\"https://forecast.weather.gov/newimages/medium/few.png\">\n"
   ]
  }
 ],
 "metadata": {
  "kernelspec": {
   "display_name": "Python 3 (ipykernel)",
   "language": "python",
   "name": "python3"
  },
  "language_info": {
   "codemirror_mode": {
    "name": "ipython",
    "version": 3
   },
   "file_extension": ".py",
   "mimetype": "text/x-python",
   "name": "python",
   "nbconvert_exporter": "python",
   "pygments_lexer": "ipython3",
   "version": "3.10.4"
  }
 },
 "nbformat": 4,
 "nbformat_minor": 4
}
